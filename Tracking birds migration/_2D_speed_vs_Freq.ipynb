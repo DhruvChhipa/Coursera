{
  "nbformat": 4,
  "nbformat_minor": 0,
  "metadata": {
    "colab": {
      "name": "_2D speed vs Freq.ipynb",
      "provenance": [],
      "collapsed_sections": [],
      "authorship_tag": "ABX9TyOCB65zYNXhJOXxQNhlL9/Q",
      "include_colab_link": true
    },
    "kernelspec": {
      "name": "python3",
      "display_name": "Python 3"
    }
  },
  "cells": [
    {
      "cell_type": "markdown",
      "metadata": {
        "id": "view-in-github",
        "colab_type": "text"
      },
      "source": [
        "<a href=\"https://colab.research.google.com/github/DhruvChhipa/Coursera/blob/master/Tracking%20birds%20migration/_2D_speed_vs_Freq.ipynb\" target=\"_parent\"><img src=\"https://colab.research.google.com/assets/colab-badge.svg\" alt=\"Open In Colab\"/></a>"
      ]
    },
    {
      "cell_type": "code",
      "metadata": {
        "id": "I3Kohfeh1ld8",
        "colab_type": "code",
        "colab": {}
      },
      "source": [
        "import pandas as pd\n",
        "import numpy as np\n",
        "import matplotlib.pyplot as plt"
      ],
      "execution_count": 1,
      "outputs": []
    },
    {
      "cell_type": "code",
      "metadata": {
        "id": "RY0odGCf3Zo7",
        "colab_type": "code",
        "colab": {}
      },
      "source": [
        "ix = birddata.bird_name == \"Eric\"\n",
        "speed = birddata.speed_2d[ix]\n",
        "plt.figure(figsize= (8,4))\n",
        "\n",
        "ind = np.isnan(speed)\n",
        "plt.hist(speed[~ind], bins = np.linspace(0,30,20), normed = true)\n",
        "plt.xlabel(\" 2D speed (m/s\")\n",
        "plt.ylabel(\" Frequency \")\n",
        "plt.show()"
      ],
      "execution_count": null,
      "outputs": []
    }
  ]
}