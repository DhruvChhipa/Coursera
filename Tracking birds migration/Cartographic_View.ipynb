{
  "nbformat": 4,
  "nbformat_minor": 0,
  "metadata": {
    "colab": {
      "name": "Cartographic View.ipynb",
      "provenance": [],
      "authorship_tag": "ABX9TyMOCDaYrHmlYyJtJbhIPJHO",
      "include_colab_link": true
    },
    "kernelspec": {
      "name": "python3",
      "display_name": "Python 3"
    }
  },
  "cells": [
    {
      "cell_type": "markdown",
      "metadata": {
        "id": "view-in-github",
        "colab_type": "text"
      },
      "source": [
        "<a href=\"https://colab.research.google.com/github/DhruvChhipa/Coursera/blob/master/Tracking%20birds%20migration/Cartographic_View.ipynb\" target=\"_parent\"><img src=\"https://colab.research.google.com/assets/colab-badge.svg\" alt=\"Open In Colab\"/></a>"
      ]
    },
    {
      "cell_type": "code",
      "metadata": {
        "id": "ARGFJg-v78zq",
        "colab_type": "code",
        "colab": {}
      },
      "source": [
        "!apt-get -qq install python-cartopy python3-cartopy\n"
      ],
      "execution_count": null,
      "outputs": []
    },
    {
      "cell_type": "code",
      "metadata": {
        "id": "z_ig7o0v8VCu",
        "colab_type": "code",
        "colab": {}
      },
      "source": [
        "import cartopy.crs as ccrs\n",
        "import cartopy.feature as cfeature\n",
        "import matplotlib.pyplot as plt\n",
        "\n"
      ],
      "execution_count": 4,
      "outputs": []
    },
    {
      "cell_type": "code",
      "metadata": {
        "id": "y2XOwWNy812n",
        "colab_type": "code",
        "colab": {}
      },
      "source": [
        "proj = ccrs.Mercator()\n",
        "plt.figure(figsize=(10,10))\n",
        "ax = plt.axes(projections=proj)\n",
        "ax.set_extent((-25.0, 20.0, 52.0, 10.0))\n",
        "ax.add_feature(cfeature.LAND)\n",
        "ax.add_feature(cfeature.OCEAN)\n",
        "ax.add_feature(cfeature.COASTLINE)\n",
        "ax.add_feature(cfeature.BORDERS, linestyle=':')\n",
        "\n",
        "for name in bird_names:\n",
        "  ix = birddata['bird_name'] == name\n",
        "  x,y = birddata.longitude[ix], birddata.latitude[ix]\n",
        "  ax.plot(x,y,'.', transform = ccrs.Geodetic(), label=name)\n",
        "plt.legend(loc = \"upper left\")\n",
        "plt.show()\n"
      ],
      "execution_count": null,
      "outputs": []
    }
  ]
}